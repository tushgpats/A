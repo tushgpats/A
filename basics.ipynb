{
 "cells": [
  {
   "cell_type": "code",
   "execution_count": null,
   "metadata": {},
   "outputs": [],
   "source": [
    "a = 10\n",
    "type(a)\n",
    "a1 = str(a)\n",
    "type(a1)"
   ]
  },
  {
   "cell_type": "code",
   "execution_count": null,
   "metadata": {},
   "outputs": [],
   "source": [
    "sav = 30000\n",
    "intr = 10\n",
    "totamt = sav + 100*intr*2/100\n",
    "print(\"amt dep is \" +  str(sav) + \"  tot amt is \" +str(totamt))"
   ]
  },
  {
   "cell_type": "code",
   "execution_count": null,
   "metadata": {},
   "outputs": [],
   "source": [
    "word = \"kugfdjhfgfuyhfytutfdtrdyuhj\"\n",
    "word[:5]\n"
   ]
  },
  {
   "cell_type": "code",
   "execution_count": null,
   "metadata": {},
   "outputs": [],
   "source": [
    "word[3:11]"
   ]
  },
  {
   "cell_type": "code",
   "execution_count": null,
   "metadata": {},
   "outputs": [],
   "source": [
    "#string is immutable\n",
    "word = \"uasyicghsdchduwyghxjashgcisdf\""
   ]
  },
  {
   "cell_type": "code",
   "execution_count": null,
   "metadata": {},
   "outputs": [],
   "source": [
    "word"
   ]
  },
  {
   "cell_type": "code",
   "execution_count": null,
   "metadata": {},
   "outputs": [],
   "source": [
    "word[0] = o"
   ]
  },
  {
   "cell_type": "code",
   "execution_count": null,
   "metadata": {},
   "outputs": [],
   "source": [
    "#list can be defined with same or different datatypes\n",
    "emp_sal = [3534,86434,75447,9874567,9876]\n",
    "\n",
    "print(emp_sal)"
   ]
  },
  {
   "cell_type": "code",
   "execution_count": null,
   "metadata": {},
   "outputs": [],
   "source": [
    "emp_sal_nam = [\"gffyjhd\",\"darsrtf\",\"hrys5fh\",867656,754354,6546533]"
   ]
  },
  {
   "cell_type": "code",
   "execution_count": null,
   "metadata": {},
   "outputs": [],
   "source": [
    "# A list may contain other list(nested list)\n",
    "mjadsc = [[65454,89786],[977564,9865456],[8765645,3446675]]"
   ]
  },
  {
   "cell_type": "code",
   "execution_count": null,
   "metadata": {},
   "outputs": [],
   "source": [
    "print(emp_sal[-1])\n",
    "\n"
   ]
  },
  {
   "cell_type": "code",
   "execution_count": null,
   "metadata": {},
   "outputs": [],
   "source": [
    "print(mjadsc[0][-1])"
   ]
  },
  {
   "cell_type": "code",
   "execution_count": null,
   "metadata": {},
   "outputs": [],
   "source": [
    "emp_name1 = [[\"ram\",1000],[\"nancy\",2000],[\"robert\",3000],[\"rabson\",4000]]\n"
   ]
  },
  {
   "cell_type": "code",
   "execution_count": null,
   "metadata": {},
   "outputs": [],
   "source": [
    "print(emp_name1)\n"
   ]
  },
  {
   "cell_type": "code",
   "execution_count": null,
   "metadata": {},
   "outputs": [],
   "source": [
    "emp_name1[0][0] = \"Ram Reddy\"\n"
   ]
  },
  {
   "cell_type": "code",
   "execution_count": null,
   "metadata": {},
   "outputs": [],
   "source": [
    "emp_name1[2][4] = [[\"willis\",2100]]"
   ]
  },
  {
   "cell_type": "code",
   "execution_count": null,
   "metadata": {},
   "outputs": [],
   "source": [
    "print(emp_name1)\n"
   ]
  },
  {
   "cell_type": "code",
   "execution_count": null,
   "metadata": {},
   "outputs": [],
   "source": [
    "#Adding Elements\n",
    "emp_name1 = emp_name1 + [\"Helen\",5000]\n",
    "print(emp_name1)"
   ]
  },
  {
   "cell_type": "code",
   "execution_count": null,
   "metadata": {},
   "outputs": [],
   "source": [
    "del(emp_name1[2:3])\n",
    "print(emp_name1)"
   ]
  },
  {
   "cell_type": "code",
   "execution_count": null,
   "metadata": {},
   "outputs": [],
   "source": [
    "x = [1000,2000,3000] \n",
    "z = list(x)\n",
    "z[1] = 2001\n",
    "print(z),print(x)"
   ]
  },
  {
   "cell_type": "code",
   "execution_count": null,
   "metadata": {},
   "outputs": [],
   "source": [
    "x = [1000,2000,3000,4000]\n",
    "y = x\n",
    "z = list(x)\n",
    "y[0]= 1001\n",
    "print(x),print(y)"
   ]
  },
  {
   "cell_type": "code",
   "execution_count": null,
   "metadata": {},
   "outputs": [],
   "source": [
    "import numpy as np\n",
    "marks = np.array([10,20,30,40,50,60,70,80,90,100])\n",
    "print(marks > 50)\n",
    "print(marks[marks > 50])"
   ]
  },
  {
   "cell_type": "code",
   "execution_count": null,
   "metadata": {},
   "outputs": [],
   "source": [
    "#Logical Operators\n",
    "import numpy as np\n",
    "marks = np.array([10,20,30,40,50,60,70,80,90,100])\n",
    "print(marks>50 or marks<80)"
   ]
  },
  {
   "cell_type": "code",
   "execution_count": null,
   "metadata": {},
   "outputs": [],
   "source": [
    "import numpy as np\n",
    "marks = np.array([10,20,30,40,50,60,70,80,90,100])\n",
    "print(marks[np.logical_and(marks>50,marks<80)])"
   ]
  },
  {
   "cell_type": "code",
   "execution_count": null,
   "metadata": {},
   "outputs": [],
   "source": []
  },
  {
   "cell_type": "code",
   "execution_count": null,
   "metadata": {},
   "outputs": [],
   "source": [
    "import numpy as np\n",
    "marks = np.array([10,20,30,40,50,60,70,80,90,100])\n",
    "print(np.logical_or(marks>50,marks<80))"
   ]
  },
  {
   "cell_type": "code",
   "execution_count": null,
   "metadata": {},
   "outputs": [],
   "source": [
    "#Matrix Addition using Numpy array.\n",
    "import numpy as np\n",
    "m1 = np.array([[12,13],[14,15]])\n",
    "m2 = np.array([[17,28],[23,25]])\n",
    "m3 = np.add(m1,m2)\n",
    "print(m3)"
   ]
  },
  {
   "cell_type": "code",
   "execution_count": null,
   "metadata": {},
   "outputs": [],
   "source": [
    "import pandas as pd\n",
    "bric = pd.read_csv(\"winequality-red.csv\",index_col = 0)\n",
    "print\n",
    "print (bric[\"pH\"])\n",
    "print (bric[bric[\"pH\"]>7])\n",
    "import numpy as np\n",
    "print(bric[np.logical_and(bric[\"pH\"]>6,bric[\"quality\"]<6)])"
   ]
  },
  {
   "cell_type": "code",
   "execution_count": null,
   "metadata": {},
   "outputs": [],
   "source": [
    "x = int(input(\"Please enter a number:\"))\n",
    "if x<0:\n",
    "    print(\"Negetive Number\")\n",
    "    \n",
    "elif x==0:\n",
    "    print(\"Zero\")\n",
    "    \n",
    "else:\n",
    "    print(\"Posetive Number\")\n",
    "    "
   ]
  },
  {
   "cell_type": "code",
   "execution_count": null,
   "metadata": {},
   "outputs": [],
   "source": [
    "a = 0\n",
    "b = 1\n",
    "while b < 50:\n",
    "    c = b\n",
    "    b = a+b\n",
    "    a = c\n",
    "    print(c)\n",
    "    \n",
    "    "
   ]
  },
  {
   "cell_type": "code",
   "execution_count": null,
   "metadata": {},
   "outputs": [],
   "source": [
    "a,b = 0,1\n",
    "while b < 50:\n",
    "    a,b = b,a+b\n",
    "    print(b,end= ',')\n",
    "    \n",
    "    "
   ]
  },
  {
   "cell_type": "code",
   "execution_count": null,
   "metadata": {},
   "outputs": [],
   "source": [
    "#For Loop \n",
    "family_heights = [1.73,1.68,1.71,1.89]\n",
    "for index,height in enumerate(family_heights) :\n",
    "    print(\"index\" + str(index)+ \";\" + str(height))"
   ]
  },
  {
   "cell_type": "code",
   "execution_count": null,
   "metadata": {},
   "outputs": [],
   "source": [
    "house = [\n",
    "    [\"Hall Area\",11.25],\n",
    "    [\"Kitchen Area\",18.0],\n",
    "    [\"Living Room Area\",20.0],\n",
    "    [\"Bedroom Area\",10.75],\n",
    "    [\"Bathroom Area\",9.50]]\n",
    "for x in house:\n",
    "    print(\"The \" + str(x[0]) + \"is\" + str(x[1]) + \"sqm\")"
   ]
  },
  {
   "cell_type": "code",
   "execution_count": null,
   "metadata": {},
   "outputs": [],
   "source": [
    "#Dictionary for loop\n",
    "world = {\"China\":1.38 , \"India\":1.34 , \"USA\":0.32}\n",
    "for key,value in world.items() :\n",
    "    print(\"The Population of \"+ str(key) + \" is \" + str(value))"
   ]
  },
  {
   "cell_type": "code",
   "execution_count": null,
   "metadata": {},
   "outputs": [],
   "source": [
    "# For Loop on numpy array\n",
    "import numpy as np\n",
    "np_family_heights = np.array([1.73,1.68,1.71,1.89])\n",
    "for height in np_family_heights :\n",
    "    print(height)"
   ]
  },
  {
   "cell_type": "code",
   "execution_count": null,
   "metadata": {},
   "outputs": [],
   "source": [
    "#For loop 2D numpy array\n",
    "import numpy as np\n",
    "np_family_height = np.array([1.73,1.68,1.71,1.89])\n",
    "np_family_weights = np.array([70,60,65,80])\n",
    "np_fam_h_w = np.array([np_family_heights,np_family_weights])\n",
    "for height in np.nditer(np_fam_h_w) :\n",
    "    print(height)\n",
    " \n",
    "print(type(np_fam_h_\n",
    "\n"
   ]
  },
  {
   "cell_type": "code",
   "execution_count": 7,
   "metadata": {},
   "outputs": [
    {
     "name": "stdout",
     "output_type": "stream",
     "text": [
      "BR :  Brasila\n",
      "RU :  Moscow\n",
      "IN :  New Delhi\n",
      "CH :  Bejing\n",
      "SA :  Cape Town\n",
      "            country     capital    area  population Unnamed: 5  name_length\n",
      "code                                                                       \n",
      "BR           Brazil     Brasila   8.516      200.00                     7.0\n",
      "RU           Russia      Moscow  17.100      143.00                     7.0\n",
      "IN            India   New Delhi   3.286     1252.00        NaN          6.0\n",
      "CH            China      Bejing   9.597     1357.00        NaN          6.0\n",
      "SA     South Africa   Cape Town   1.221       52.98        NaN         13.0\n",
      "            country     capital    area  population Unnamed: 5  name_length  \\\n",
      "code                                                                          \n",
      "BR           Brazil     Brasila   8.516      200.00                     7.0   \n",
      "RU           Russia      Moscow  17.100      143.00                     7.0   \n",
      "IN            India   New Delhi   3.286     1252.00        NaN          6.0   \n",
      "CH            China      Bejing   9.597     1357.00        NaN          6.0   \n",
      "SA     South Africa   Cape Town   1.221       52.98        NaN         13.0   \n",
      "\n",
      "      Name_length1  \n",
      "code                \n",
      "BR               7  \n",
      "RU               7  \n",
      "IN               6  \n",
      "CH               6  \n",
      "SA              13  \n"
     ]
    }
   ],
   "source": [
    "import pandas as pd\n",
    "brics = pd.read_csv(\"brics.csv\", index_col = 0)\n",
    "#for val in brics :\n",
    " #   print (val)\n",
    "    \n",
    "#for lab, row in brics.iterrows() :\n",
    " #   print(lab)\n",
    "  #  print(row)\n",
    "    \n",
    "for lab, row in brics.iterrows() :\n",
    "    print(str(lab) + \" : \" + str(row[\"capital\"]))\n",
    "    \n",
    "#add column to result\n",
    "for lab, row in brics.iterrows() :\n",
    "    brics.loc[lab, \"name_length\"] = len(row[\"country\"])\n",
    "print(brics)\n",
    "    \n",
    "brics[\"Name_length1\"] = brics[\"country\"].apply(len)\n",
    "print(brics)"
   ]
  },
  {
   "cell_type": "code",
   "execution_count": 9,
   "metadata": {},
   "outputs": [
    {
     "name": "stdout",
     "output_type": "stream",
     "text": [
      "[90, 60, 50, 40, 30, 10]\n"
     ]
    }
   ],
   "source": [
    "first = [10,90,30]\n",
    "second = [50,60,40]\n",
    "full = second + first\n",
    "full_sorted = sorted(full, reverse = True)\n",
    "\n",
    "print(full_sorted)"
   ]
  },
  {
   "cell_type": "code",
   "execution_count": 14,
   "metadata": {},
   "outputs": [
    {
     "name": "stdout",
     "output_type": "stream",
     "text": [
      "288441413567621167681\n"
     ]
    }
   ],
   "source": [
    "def square (value1,value2) :\n",
    "    \"\"\"Raise value1 to exp of value2\"\"\"\n",
    "    new_value = value1**value2\n",
    "    return new_value\n",
    "rs = square(19,16)\n",
    "print(rs)\n"
   ]
  },
  {
   "cell_type": "code",
   "execution_count": 17,
   "metadata": {},
   "outputs": [
    {
     "name": "stdout",
     "output_type": "stream",
     "text": [
      "[-3, 0, 2, 3, 4, 5, 6, 8, 9, 13]\n"
     ]
    }
   ],
   "source": [
    "\n",
    "mylist = [3,4,-3,0,13,5,6,9,8,2]\n",
    "mylist_sort = sorted(mylist)\n",
    "print(mylist_sort)\n",
    "\n"
   ]
  },
  {
   "cell_type": "code",
   "execution_count": null,
   "metadata": {},
   "outputs": [],
   "source": []
  },
  {
   "cell_type": "code",
   "execution_count": 18,
   "metadata": {},
   "outputs": [
    {
     "name": "stdout",
     "output_type": "stream",
     "text": [
      "apple\n",
      "bannana\n",
      "cherry\n"
     ]
    }
   ],
   "source": [
    "tiple = (\"apple\",\"bannana\",\"cherry\")\n",
    "for x in tiple:\n",
    "    print(x)"
   ]
  },
  {
   "cell_type": "code",
   "execution_count": 19,
   "metadata": {},
   "outputs": [
    {
     "name": "stdout",
     "output_type": "stream",
     "text": [
      "yes\n"
     ]
    }
   ],
   "source": [
    "#Check if\n",
    "tiple = (\"apple\",\"bannana\",\"cherry\")\n",
    "if \"apple\" in tiple:\n",
    "    print(\"yes\")"
   ]
  },
  {
   "cell_type": "code",
   "execution_count": 24,
   "metadata": {},
   "outputs": [
    {
     "name": "stdout",
     "output_type": "stream",
     "text": [
      "('apple', 'kiwi', 'cherry')\n"
     ]
    }
   ],
   "source": [
    "tiple = (\"apple\",\"bannana\",\"cherry\")\n",
    "y = list(tiple)\n",
    "y[1] = \"kiwi\"\n",
    "tiple = tuple(y)\n",
    "print(tiple)\n"
   ]
  },
  {
   "cell_type": "code",
   "execution_count": 25,
   "metadata": {},
   "outputs": [
    {
     "ename": "TypeError",
     "evalue": "'tuple' object does not support item assignment",
     "output_type": "error",
     "traceback": [
      "\u001b[1;31m---------------------------------------------------------------------------\u001b[0m",
      "\u001b[1;31mTypeError\u001b[0m                                 Traceback (most recent call last)",
      "\u001b[1;32m<ipython-input-25-3f26d63aebd2>\u001b[0m in \u001b[0;36m<module>\u001b[1;34m\u001b[0m\n\u001b[0;32m      1\u001b[0m \u001b[0mtiple\u001b[0m \u001b[1;33m=\u001b[0m \u001b[1;33m(\u001b[0m\u001b[1;34m\"apple\"\u001b[0m\u001b[1;33m,\u001b[0m\u001b[1;34m\"bannana\"\u001b[0m\u001b[1;33m,\u001b[0m\u001b[1;34m\"cherry\"\u001b[0m\u001b[1;33m)\u001b[0m\u001b[1;33m\u001b[0m\u001b[1;33m\u001b[0m\u001b[0m\n\u001b[0;32m      2\u001b[0m \u001b[1;33m\u001b[0m\u001b[0m\n\u001b[1;32m----> 3\u001b[1;33m \u001b[0mtiple\u001b[0m\u001b[1;33m[\u001b[0m\u001b[1;36m2\u001b[0m\u001b[1;33m]\u001b[0m \u001b[1;33m=\u001b[0m \u001b[1;34m\"kiwi\"\u001b[0m\u001b[1;33m\u001b[0m\u001b[1;33m\u001b[0m\u001b[0m\n\u001b[0m\u001b[0;32m      4\u001b[0m \u001b[1;33m\u001b[0m\u001b[0m\n",
      "\u001b[1;31mTypeError\u001b[0m: 'tuple' object does not support item assignment"
     ]
    }
   ],
   "source": [
    "tiple = (\"apple\",\"bannana\",\"cherry\")\n",
    "\n",
    "tiple[2] = \"kiwi\"\n",
    "\n"
   ]
  },
  {
   "cell_type": "code",
   "execution_count": 32,
   "metadata": {},
   "outputs": [
    {
     "name": "stdout",
     "output_type": "stream",
     "text": [
      "<class 'tuple'>\n",
      "a = 2\n",
      "b = 4\n",
      "c = 9\n",
      "d = 8\n",
      "2\n"
     ]
    }
   ],
   "source": [
    "even_nums = (2,4,9,8)\n",
    "print(type(even_nums))\n",
    "a,b,c,d = even_nums\n",
    "print(\"a = \" + str(a))\n",
    "print(\"b = \" + str(b))\n",
    "print(\"c = \" + str(c))\n",
    "print(\"d = \" + str(d))\n",
    "print(even_nums[0])\n"
   ]
  },
  {
   "cell_type": "code",
   "execution_count": 33,
   "metadata": {},
   "outputs": [
    {
     "name": "stdout",
     "output_type": "stream",
     "text": [
      "(106993205379072, 23298085122481)\n"
     ]
    }
   ],
   "source": [
    "def raise_both(v1,v2):\n",
    "    nv1 = v1**v2\n",
    "    nv2 = v2**v1\n",
    "    nt = (nv1,nv2)\n",
    "    return nt\n",
    "rs = raise_both(12,13)\n",
    "print(rs)"
   ]
  },
  {
   "cell_type": "code",
   "execution_count": 40,
   "metadata": {},
   "outputs": [
    {
     "name": "stdout",
     "output_type": "stream",
     "text": [
      "True\n",
      "{'orange', 'cherry', 'banana', 'apple'}\n",
      "{'cherry', 'Guava', 'Mango', 'apple', 'banana', 'orange', 'Grapes'}\n",
      "{'cherry', 'Guava', 'Mango', 'apple', 'banana', 'orange', 'Grapes'}\n"
     ]
    }
   ],
   "source": [
    "#Sets\n",
    "dheset = {\"apple\",\"cherry\",\"banana\"}\n",
    "print(\"banana\" in dheset)\n",
    "dheset.add(\"orange\")\n",
    "print(dheset)\n",
    "\n",
    "dheset.update([\"Mango\",\"Grapes\",\"Guava\"])\n",
    "print(dheset)\n",
    "\n",
    "#dheset.remove(\"njbhbhsdc\")\n",
    "\n",
    "dheset.discard(\"nbvjv\")\n",
    "print(dheset)\n",
    "\n",
    "\n",
    "\n",
    "\n"
   ]
  },
  {
   "cell_type": "code",
   "execution_count": 43,
   "metadata": {},
   "outputs": [
    {
     "name": "stdout",
     "output_type": "stream",
     "text": [
      "10\n",
      "16\n",
      "16\n"
     ]
    }
   ],
   "source": [
    "new_value = 10 #Global Variable\n",
    "print(new_value)\n",
    "\n",
    "def square(value):\n",
    "    global new_value\n",
    "    new_value = value ** 2\n",
    "    print(new_value)\n",
    "    \n",
    "square(4)\n",
    "print(new_value)\n"
   ]
  }
 ],
 "metadata": {
  "kernelspec": {
   "display_name": "Python 3",
   "language": "python",
   "name": "python3"
  },
  "language_info": {
   "codemirror_mode": {
    "name": "ipython",
    "version": 3
   },
   "file_extension": ".py",
   "mimetype": "text/x-python",
   "name": "python",
   "nbconvert_exporter": "python",
   "pygments_lexer": "ipython3",
   "version": "3.7.4"
  }
 },
 "nbformat": 4,
 "nbformat_minor": 2
}
