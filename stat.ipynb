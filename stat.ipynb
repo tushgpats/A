{
 "cells": [
  {
   "cell_type": "code",
   "execution_count": 6,
   "metadata": {},
   "outputs": [
    {
     "name": "stdout",
     "output_type": "stream",
     "text": [
      "the average age is 33.3\n",
      "42\n",
      "72\n",
      "97\n",
      "122\n",
      "152\n",
      "184\n",
      "232\n",
      "254\n",
      "296\n",
      "333\n",
      "33.3\n"
     ]
    }
   ],
   "source": [
    "x = [42,30,25,25,30,32,48,22,42,37]\n",
    "mean_x = x[0]+x[1]+x[2]+x[3]+x[4]+x[5]+x[6]+x[7]+x[8]+x[9]\n",
    "print(\"the average age is\", mean_x/10)\n",
    "\n",
    "mean_of = 0\n",
    "for i,j in enumerate(x):\n",
    "    mean_of = mean_of + j # mean_of +x[i]\n",
    "    print(mean_of)\n",
    "    \n",
    "print(mean_of/(i+1))"
   ]
  },
  {
   "cell_type": "code",
   "execution_count": 7,
   "metadata": {},
   "outputs": [
    {
     "name": "stdout",
     "output_type": "stream",
     "text": [
      "Collecting statistics\n",
      "  Downloading https://files.pythonhosted.org/packages/bb/3a/ae99a15e65636559d936dd2159d75af1619491e8cb770859fbc8aa62cef6/statistics-1.0.3.5.tar.gz\n",
      "Requirement already satisfied: docutils>=0.3 in c:\\users\\tushar\\anaconda3\\lib\\site-packages (from statistics) (0.15.2)\n",
      "Building wheels for collected packages: statistics\n",
      "  Building wheel for statistics (setup.py): started\n",
      "  Building wheel for statistics (setup.py): finished with status 'done'\n",
      "  Created wheel for statistics: filename=statistics-1.0.3.5-cp37-none-any.whl size=7457 sha256=1609dfdddbe7581803659d54ca69f269ea27f44ee624bdcb8956f514177c390b\n",
      "  Stored in directory: C:\\Users\\TUSHAR\\AppData\\Local\\pip\\Cache\\wheels\\75\\55\\90\\73aa7662bfb4565b567618547a275f01372a678ca92ecd64f3\n",
      "Successfully built statistics\n",
      "Installing collected packages: statistics\n",
      "Successfully installed statistics-1.0.3.5\n"
     ]
    }
   ],
   "source": [
    "!pip install statistics"
   ]
  },
  {
   "cell_type": "code",
   "execution_count": 11,
   "metadata": {},
   "outputs": [
    {
     "data": {
      "text/plain": [
       "33.3"
      ]
     },
     "execution_count": 11,
     "metadata": {},
     "output_type": "execute_result"
    }
   ],
   "source": [
    "import statistics as geek\n",
    "geek.mean(x)\n",
    "import numpy as n\n",
    "n.mean(x)"
   ]
  },
  {
   "cell_type": "code",
   "execution_count": 13,
   "metadata": {},
   "outputs": [
    {
     "data": {
      "text/plain": [
       "75.0"
      ]
     },
     "execution_count": 13,
     "metadata": {},
     "output_type": "execute_result"
    }
   ],
   "source": [
    "m = [130,126,68,50,1]\n",
    "import numpy as np\n",
    "np.mean(m)"
   ]
  },
  {
   "cell_type": "code",
   "execution_count": 18,
   "metadata": {},
   "outputs": [
    {
     "name": "stdout",
     "output_type": "stream",
     "text": [
      "207\n"
     ]
    }
   ],
   "source": [
    "z = 0\n",
    "x = [27,31,89,z,56]\n",
    "mean =  82\n",
    "added_val = 0\n",
    "for i,j in enumerate(x):\n",
    "    added_val = added_val+j\n",
    "    \n",
    "val_of_z =  (mean*(i+1))-added_val\n",
    "print(val_of_z)\n"
   ]
  },
  {
   "cell_type": "code",
   "execution_count": null,
   "metadata": {},
   "outputs": [],
   "source": []
  },
  {
   "cell_type": "code",
   "execution_count": 22,
   "metadata": {},
   "outputs": [
    {
     "name": "stdout",
     "output_type": "stream",
     "text": [
      "9\n",
      "9\n"
     ]
    }
   ],
   "source": [
    "x = [3,6,17,25,4,18,9]\n",
    "y = [3,4,6,9,17,18,25]\n",
    "import statistics as s\n",
    "print(s.median(x))\n",
    "print(s.median(y))\n",
    "\n"
   ]
  },
  {
   "cell_type": "code",
   "execution_count": 31,
   "metadata": {},
   "outputs": [
    {
     "name": "stdout",
     "output_type": "stream",
     "text": [
      "23\n",
      "66\n"
     ]
    },
    {
     "ename": "TypeError",
     "evalue": "'list' object cannot be interpreted as an integer",
     "output_type": "error",
     "traceback": [
      "\u001b[1;31m---------------------------------------------------------------------------\u001b[0m",
      "\u001b[1;31mTypeError\u001b[0m                                 Traceback (most recent call last)",
      "\u001b[1;32m<ipython-input-31-14bde0c83763>\u001b[0m in \u001b[0;36m<module>\u001b[1;34m\u001b[0m\n\u001b[0;32m      4\u001b[0m \u001b[0mrange_\u001b[0m \u001b[1;33m=\u001b[0m \u001b[0mmax\u001b[0m\u001b[1;33m(\u001b[0m\u001b[0mf\u001b[0m\u001b[1;33m)\u001b[0m \u001b[1;33m-\u001b[0m \u001b[0mmin\u001b[0m\u001b[1;33m(\u001b[0m\u001b[0mf\u001b[0m\u001b[1;33m)\u001b[0m\u001b[1;33m\u001b[0m\u001b[1;33m\u001b[0m\u001b[0m\n\u001b[0;32m      5\u001b[0m \u001b[0mprint\u001b[0m\u001b[1;33m(\u001b[0m\u001b[0mrange_\u001b[0m\u001b[1;33m)\u001b[0m\u001b[1;33m\u001b[0m\u001b[1;33m\u001b[0m\u001b[0m\n\u001b[1;32m----> 6\u001b[1;33m \u001b[0mprint\u001b[0m\u001b[1;33m(\u001b[0m\u001b[0mrange\u001b[0m\u001b[1;33m(\u001b[0m\u001b[0mf\u001b[0m\u001b[1;33m)\u001b[0m\u001b[1;33m)\u001b[0m\u001b[1;33m\u001b[0m\u001b[1;33m\u001b[0m\u001b[0m\n\u001b[0m",
      "\u001b[1;31mTypeError\u001b[0m: 'list' object cannot be interpreted as an integer"
     ]
    }
   ],
   "source": [
    "f = [23,12,78,12,75,23,78,23]\n",
    "import statistics as s\n",
    "print(s.mode(f))\n",
    "range_ = max(f) - min(f)\n",
    "\n",
    "\n"
   ]
  },
  {
   "cell_type": "code",
   "execution_count": 40,
   "metadata": {},
   "outputs": [
    {
     "name": "stdout",
     "output_type": "stream",
     "text": [
      "6196\n",
      "1239.2\n",
      "35.20227265390688\n"
     ]
    }
   ],
   "source": [
    "x = [23,12,78,12,75,23,78]\n",
    "meu = s.mean(x)\n",
    "p = 0\n",
    "import math\n",
    "for i,j in enumerate(x):\n",
    "    minus_meu = abs(meu - j)\n",
    "    p = p + pow(minus_meu,2)    \n",
    "print(p)\n",
    "variance = p/(i-1)\n",
    "print(variance)\n",
    "s_d = math.sqrt(variance)\n",
    "print(s_d)"
   ]
  },
  {
   "cell_type": "code",
   "execution_count": null,
   "metadata": {},
   "outputs": [],
   "source": [
    "import math\n",
    "z = 0\n",
    "x = [25,25,25,30,30,35,50,60,16,14,18,18,20]\n",
    "mean =  82\n",
    "added_val = 0\n",
    "for i,j in enumerate(x):\n",
    "    added_val = added_val+j\n",
    "    \n",
    "meu = added_val/len(x)\n",
    "for i,j in enumerate(x):\n",
    "    minus_meu = abs(meu - j)\n",
    "    p = p + pow(minus_meu,2)    \n",
    "print(p)\n",
    "variance = p/(i-1)\n",
    "print(variance)\n",
    "s_d = math.sqrt(variance)\n",
    "print(s_d)\n",
    "#median \n",
    "length = len(x)\n",
    "if length%2 == 0:\n",
    "\n",
    "    a = length/2\n",
    "    b = a+1\n",
    "    median = x[a] + x[b]/2\n",
    "    \n",
    "    else:\n",
    "        w = length/\n"
   ]
  },
  {
   "cell_type": "code",
   "execution_count": 14,
   "metadata": {},
   "outputs": [
    {
     "name": "stdout",
     "output_type": "stream",
     "text": [
      "[8, 12, 17]\n",
      "[9, 14, 16]\n",
      "[7, 15, 12]\n"
     ]
    }
   ],
   "source": [
    "a = [[2,5,9],\n",
    "     [4,8,9],\n",
    "     [3,7,9]]\n",
    "b = [[6,7,8],\n",
    "     [5,6,7],\n",
    "     [4,8,3]]\n",
    "c = [[0,0,0],[0,0,0],[0,0,0]]\n",
    "for i in range(len(a)):\n",
    "    for j in range(len(a[0])):\n",
    "        c[i][j] = a[i][j] + b[i][j]\n",
    "for r in c:\n",
    "    print(r)\n",
    "     "
   ]
  },
  {
   "cell_type": "code",
   "execution_count": 15,
   "metadata": {},
   "outputs": [
    {
     "name": "stdout",
     "output_type": "stream",
     "text": [
      "[12, 35, 72]\n",
      "[20, 48, 63]\n",
      "[12, 56, 27]\n"
     ]
    }
   ],
   "source": [
    "#Multiplication\n",
    "a = [[2,5,9],\n",
    "     [4,8,9],\n",
    "     [3,7,9]]\n",
    "b = [[6,7,8],\n",
    "     [5,6,7],\n",
    "     [4,8,3]]\n",
    "c = [[0,0,0],[0,0,0],[0,0,0]]\n",
    "\n",
    "for i in range(len(a)):\n",
    "    for j in range(len(b[0])):\n",
    "        for k in range(len(b)):\n",
    "            c[i][j] = a[i][j]*b[i][j]\n",
    "\n",
    "for r in c:\n",
    "    print(r)"
   ]
  }
 ],
 "metadata": {
  "kernelspec": {
   "display_name": "Python 3",
   "language": "python",
   "name": "python3"
  },
  "language_info": {
   "codemirror_mode": {
    "name": "ipython",
    "version": 3
   },
   "file_extension": ".py",
   "mimetype": "text/x-python",
   "name": "python",
   "nbconvert_exporter": "python",
   "pygments_lexer": "ipython3",
   "version": "3.7.4"
  }
 },
 "nbformat": 4,
 "nbformat_minor": 2
}
