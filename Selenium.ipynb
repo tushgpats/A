{
 "cells": [
  {
   "cell_type": "code",
   "execution_count": 1,
   "metadata": {},
   "outputs": [
    {
     "name": "stdout",
     "output_type": "stream",
     "text": [
      "Collecting selenium\n",
      "  Downloading https://files.pythonhosted.org/packages/80/d6/4294f0b4bce4de0abf13e17190289f9d0613b0a44e5dd6a7f5ca98459853/selenium-3.141.0-py2.py3-none-any.whl (904kB)\n",
      "Requirement already satisfied: urllib3 in c:\\users\\tushar\\anaconda3\\lib\\site-packages (from selenium) (1.24.2)\n",
      "Installing collected packages: selenium\n",
      "Successfully installed selenium-3.141.0\n"
     ]
    }
   ],
   "source": [
    "!pip install selenium"
   ]
  },
  {
   "cell_type": "code",
   "execution_count": 19,
   "metadata": {},
   "outputs": [
    {
     "name": "stdout",
     "output_type": "stream",
     "text": [
      "Opened facebook\n"
     ]
    }
   ],
   "source": [
    "from selenium import webdriver \n",
    "from selenium.webdriver.common.keys import Keys\n",
    "from time import sleep \n",
    "\n",
    "  \n",
    "# usr=input('Enter Email ID:')  \n",
    "# pwd =input('password')  \n",
    "  \n",
    "browser = webdriver.Chrome(executable_path= r\"C:\\Users\\TUSHAR\\A\\chromedriver_win32\\chromedriver.exe\") \n",
    "browser.get('https://www.facebook.com/') \n",
    "print (\"Opened facebook\") \n",
    "\n",
    "username = browser.find_elements_by_css_selector(\"input[name = email]\")\n",
    "username[0].send_keys('tushgpats@yahoo.co.in')\n",
    "password = browser.find_elements_by_css_selector(\"input[name=pass]\")\n",
    "password[0].send_keys('bounceback2018')\n",
    "loginButton = browser.find_elements_by_css_selector(\"input[type=submit]\")\n",
    "loginButton[0].click()"
   ]
  },
  {
   "cell_type": "code",
   "execution_count": null,
   "metadata": {},
   "outputs": [],
   "source": []
  }
 ],
 "metadata": {
  "kernelspec": {
   "display_name": "Python 3",
   "language": "python",
   "name": "python3"
  },
  "language_info": {
   "codemirror_mode": {
    "name": "ipython",
    "version": 3
   },
   "file_extension": ".py",
   "mimetype": "text/x-python",
   "name": "python",
   "nbconvert_exporter": "python",
   "pygments_lexer": "ipython3",
   "version": "3.7.4"
  }
 },
 "nbformat": 4,
 "nbformat_minor": 2
}
